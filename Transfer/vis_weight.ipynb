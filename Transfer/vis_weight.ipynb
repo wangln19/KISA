{
 "cells": [
  {
   "cell_type": "code",
   "execution_count": 1,
   "metadata": {},
   "outputs": [],
   "source": [
    "from sklearn.metrics import roc_auc_score\n",
    "import os\n",
    "import pandas as pd\n",
    "import numpy as np\n",
    "from tqdm import tqdm\n",
    "import pickle\n",
    "import seaborn as sns\n",
    "from matplotlib import pyplot as plt\n",
    "from torch.utils.data import Dataset, DataLoader, Subset\n",
    "from sklearn.manifold import TSNE\n",
    "import datetime\n",
    "parseDate = lambda x: datetime.datetime.strptime(x, '%Y-%m-%d %H:%M:%S')"
   ]
  },
  {
   "cell_type": "code",
   "execution_count": 3,
   "metadata": {},
   "outputs": [
    {
     "data": {
      "text/plain": [
       "<matplotlib.axes._subplots.AxesSubplot at 0x1ed37eeca58>"
      ]
     },
     "execution_count": 3,
     "metadata": {},
     "output_type": "execute_result"
    },
    {
     "data": {
      "image/png": "[encoded data removed]",
      "text/plain": [
       "<Figure size 432x288 with 2 Axes>"
      ]
     },
     "metadata": {
      "needs_background": "light"
     },
     "output_type": "display_data"
    }
   ],
   "source": [
    "weight = np.array([[1.4173e-25, 2.7712e-14, 5.5190e-16, 3.9965e-08, 1.4493e-05, 6.0077e-20,\n",
    "         6.5699e-13, 9.6490e-24, 7.2075e-12, 9.1302e-17],\n",
    "        [1.0000e+00, 9.9999e-01, 9.9988e-01, 9.9030e-01, 1.5859e-02, 9.9999e-01,\n",
    "         9.9984e-01, 1.0000e+00, 9.9996e-01, 9.9999e-01],\n",
    "        [2.2591e-16, 1.4240e-07, 8.0699e-10, 2.8928e-04, 1.0852e-05, 5.8097e-13,\n",
    "         3.6011e-07, 4.5478e-16, 2.4884e-06, 3.9052e-10],\n",
    "        [7.3368e-08, 1.2193e-05, 1.1501e-04, 9.0551e-05, 3.6417e-07, 6.8999e-06,\n",
    "         1.5799e-04, 1.8705e-06, 3.0634e-05, 1.2751e-05],\n",
    "        [6.1318e-29, 1.8117e-17, 2.9636e-18, 6.4040e-11, 2.1265e-09, 6.5603e-23,\n",
    "         2.7329e-15, 7.4507e-27, 1.6085e-14, 1.1631e-19],\n",
    "        [9.9156e-19, 1.1819e-09, 2.9615e-12, 1.0214e-04, 1.5845e-03, 2.3876e-15,\n",
    "         2.6935e-09, 1.3332e-18, 9.2225e-08, 2.3226e-12],\n",
    "        [3.5895e-26, 4.0936e-15, 1.0693e-15, 1.1137e-08, 3.6939e-06, 5.7404e-20,\n",
    "         4.8141e-13, 1.4096e-23, 9.3095e-13, 4.4536e-17],\n",
    "        [1.3052e-27, 3.9040e-16, 3.3878e-18, 5.2927e-10, 1.0918e-08, 1.9951e-22,\n",
    "         7.3118e-15, 2.6113e-26, 2.0944e-13, 5.3183e-19],\n",
    "        [2.7504e-18, 1.4696e-10, 4.8175e-11, 2.4668e-06, 1.4501e-05, 4.8126e-14,\n",
    "         3.8513e-09, 1.3889e-16, 4.7189e-09, 4.9441e-12],\n",
    "        [3.2635e-14, 3.6492e-07, 4.1702e-09, 9.2200e-03, 9.8251e-01, 2.0252e-11,\n",
    "         8.3308e-07, 5.6514e-14, 1.0214e-05, 3.8107e-09]])\n",
    "sns.heatmap(weight)"
   ]
  },
  {
   "cell_type": "code",
   "execution_count": 5,
   "metadata": {},
   "outputs": [
    {
     "data": {
      "text/plain": [
       "<matplotlib.axes._subplots.AxesSubplot at 0x1ed400de2b0>"
      ]
     },
     "execution_count": 5,
     "metadata": {},
     "output_type": "execute_result"
    },
    {
     "data": {
      "image/png": "[encoded data removed]",
      "text/plain": [
       "<Figure size 432x288 with 2 Axes>"
      ]
     },
     "metadata": {
      "needs_background": "light"
     },
     "output_type": "display_data"
    }
   ],
   "source": [
    "distance = np.array([[8.4063, 5.5383, 5.7067, 5.8469, 7.1018, 6.2481, 5.4748, 7.0890, 5.3014,\n",
    "         5.7533],\n",
    "        [5.5383, 4.1145, 4.3023, 4.5794, 6.1543, 5.0321, 3.9892, 6.0670, 3.8042,\n",
    "         4.4030],\n",
    "        [5.7067, 4.3023, 6.2497, 6.0850, 7.1221, 6.9021, 5.9265, 7.7837, 5.8239,\n",
    "         6.3754],\n",
    "        [5.8469, 4.5794, 6.0850, 4.9497, 6.4592, 5.2732, 4.3788, 6.2382, 4.1707,\n",
    "         4.6976],\n",
    "        [7.1018, 6.1543, 7.1221, 6.4592, 7.2176, 6.5770, 5.8330, 7.3905, 5.6589,\n",
    "         6.1064],\n",
    "        [6.2481, 5.0321, 6.9021, 5.2732, 6.5770, 6.2622, 5.3017, 7.1689, 5.1547,\n",
    "         5.7186],\n",
    "        [5.4748, 3.9892, 5.9265, 4.3788, 5.8330, 5.3017, 5.5970, 7.1322, 5.4368,\n",
    "         5.8386],\n",
    "        [7.0890, 6.0670, 7.7837, 6.2382, 7.3905, 7.1689, 7.1322, 7.2852, 5.4212,\n",
    "         5.9374],\n",
    "        [5.3014, 3.8042, 5.8239, 4.1707, 5.6589, 5.1547, 5.4368, 5.4212, 4.9707,\n",
    "         5.4286],\n",
    "        [5.7533, 4.4030, 6.3754, 4.6976, 6.1064, 5.7186, 5.8386, 5.9374, 5.4286,\n",
    "         5.2240]])\n",
    "sns.heatmap(distance)\n"
   ]
  },
  {
   "cell_type": "code",
   "execution_count": 9,
   "metadata": {},
   "outputs": [
    {
     "data": {
      "text/plain": [
       "array([8, 8, 1, 8, 8, 1, 1, 8, 1, 1], dtype=int64)"
      ]
     },
     "execution_count": 9,
     "metadata": {},
     "output_type": "execute_result"
    }
   ],
   "source": [
    "distance.argmin(axis=0)"
   ]
  },
  {
   "cell_type": "code",
   "execution_count": 7,
   "metadata": {},
   "outputs": [
    {
     "data": {
      "text/plain": [
       "array([62.4666, 47.9843, 62.2774, 52.6787, 65.6208, 59.6386, 54.9086,\n",
       "       67.5133, 51.1711, 55.4829])"
      ]
     },
     "execution_count": 7,
     "metadata": {},
     "output_type": "execute_result"
    }
   ],
   "source": [
    "distance.sum(axis=1)"
   ]
  },
  {
   "cell_type": "code",
   "execution_count": 20,
   "metadata": {},
   "outputs": [
    {
     "data": {
      "text/plain": [
       "61.4695"
      ]
     },
     "execution_count": 20,
     "metadata": {},
     "output_type": "execute_result"
    }
   ],
   "source": [
    "weight[0,:].sum()"
   ]
  },
  {
   "cell_type": "code",
   "execution_count": 6,
   "metadata": {},
   "outputs": [
    {
     "data": {
      "text/plain": [
       "(12, 12)"
      ]
     },
     "execution_count": 6,
     "metadata": {},
     "output_type": "execute_result"
    }
   ],
   "source": [
    "weight.shape"
   ]
  },
  {
   "cell_type": "code",
   "execution_count": 2,
   "metadata": {},
   "outputs": [
    {
     "data": {
      "text/plain": [
       "<matplotlib.axes._subplots.AxesSubplot at 0x1e9e59a33c8>"
      ]
     },
     "execution_count": 2,
     "metadata": {},
     "output_type": "execute_result"
    },
    {
     "data": {
      "image/png": "[encoded data removed]",
      "text/plain": [
       "<Figure size 432x288 with 2 Axes>"
      ]
     },
     "metadata": {
      "needs_background": "light"
     },
     "output_type": "display_data"
    }
   ],
   "source": [
    "weight = np.array([[0.1667, 0.1667, 0.1667, 0.1667, 0.1667, 0.1667],\n",
    "        [0.1667, 0.1667, 0.1667, 0.1667, 0.1667, 0.1667],\n",
    "        [0.1667, 0.1667, 0.1667, 0.1667, 0.1667, 0.1667],\n",
    "        [0.1667, 0.1667, 0.1667, 0.1667, 0.1667, 0.1667],\n",
    "        [0.1667, 0.1667, 0.1667, 0.1667, 0.1667, 0.1667],\n",
    "        [0.1667, 0.1667, 0.1667, 0.1667, 0.1667, 0.1667]])\n",
    "sns.heatmap(weight)"
   ]
  },
  {
   "cell_type": "code",
   "execution_count": 3,
   "metadata": {},
   "outputs": [
    {
     "data": {
      "text/plain": [
       "<matplotlib.axes._subplots.AxesSubplot at 0x1e9eda8c048>"
      ]
     },
     "execution_count": 3,
     "metadata": {},
     "output_type": "execute_result"
    },
    {
     "data": {
      "image/png": "[encoded data removed]",
      "text/plain": [
       "<Figure size 432x288 with 2 Axes>"
      ]
     },
     "metadata": {
      "needs_background": "light"
     },
     "output_type": "display_data"
    }
   ],
   "source": [
    "distance = np.array([[4.6982, 4.7017, 4.6441, 4.6808, 4.7106, 4.6945],\n",
    "        [4.7017, 4.9359, 4.8813, 4.9161, 4.9442, 4.9282],\n",
    "        [4.6441, 4.8813, 4.9157, 4.9497, 4.9779, 4.9628],\n",
    "        [4.6808, 4.9161, 4.9497, 4.8706, 4.8984, 4.8824],\n",
    "        [4.7106, 4.9442, 4.9779, 4.8984, 4.8775, 4.8617],\n",
    "        [4.6945, 4.9282, 4.9628, 4.8824, 4.8617, 4.8300]])\n",
    "sns.heatmap(distance)\n"
   ]
  },
  {
   "cell_type": "code",
   "execution_count": 11,
   "metadata": {},
   "outputs": [],
   "source": [
    "def softmax(x, axis=None):\n",
    "    x = x - x.max(axis=axis, keepdims=True)\n",
    "    y = np.exp(x)\n",
    "    return y / y.sum(axis=axis, keepdims=True)"
   ]
  },
  {
   "cell_type": "code",
   "execution_count": 17,
   "metadata": {},
   "outputs": [
    {
     "data": {
      "text/plain": [
       "array([0.04254255, 0.02830173, 0.05223328, 0.04321302, 0.03069873,\n",
       "       0.04768734])"
      ]
     },
     "execution_count": 17,
     "metadata": {},
     "output_type": "execute_result"
    },
    {
     "data": {
      "image/png": "[encoded data removed]",
      "text/plain": [
       "<Figure size 432x288 with 2 Axes>"
      ]
     },
     "metadata": {
      "needs_background": "light"
     },
     "output_type": "display_data"
    }
   ],
   "source": [
    "weight_test = np.random.rand(weight.shape[0],weight.shape[1])\n",
    "weight_test = softmax(weight_test,axis=0)\n",
    "sns.heatmap(weight_test)\n",
    "weight_test.std(axis=0)"
   ]
  },
  {
   "cell_type": "code",
   "execution_count": 18,
   "metadata": {},
   "outputs": [
    {
     "data": {
      "text/plain": [
       "array([[0.13900525, 0.130071  , 0.12430953, 0.14006741, 0.14451675,\n",
       "        0.20085245],\n",
       "       [0.21056604, 0.20870259, 0.23240283, 0.1999243 , 0.1479504 ,\n",
       "        0.16297277],\n",
       "       [0.1304629 , 0.13214326, 0.12802743, 0.12671703, 0.21080844,\n",
       "        0.11003855],\n",
       "       [0.1647189 , 0.18185336, 0.15914581, 0.18465052, 0.12253996,\n",
       "        0.15841913],\n",
       "       [0.23512255, 0.16411204, 0.2430398 , 0.23495883, 0.18063135,\n",
       "        0.1182983 ],\n",
       "       [0.12012436, 0.18311775, 0.11307459, 0.1136819 , 0.1935531 ,\n",
       "        0.24941881]])"
      ]
     },
     "execution_count": 18,
     "metadata": {},
     "output_type": "execute_result"
    }
   ],
   "source": [
    "weight_test"
   ]
  },
  {
   "cell_type": "code",
   "execution_count": 23,
   "metadata": {},
   "outputs": [],
   "source": [
    "weight_test = np.zeros((weight.shape[0],weight.shape[1]))\n",
    "weight_test[0,:] = 1"
   ]
  },
  {
   "cell_type": "code",
   "execution_count": 29,
   "metadata": {},
   "outputs": [
    {
     "data": {
      "text/plain": [
       "array([[1., 1., 1., 1., 1., 1.],\n",
       "       [0., 0., 0., 0., 0., 0.],\n",
       "       [0., 0., 0., 0., 0., 0.],\n",
       "       [0., 0., 0., 0., 0., 0.],\n",
       "       [0., 0., 0., 0., 0., 0.],\n",
       "       [0., 0., 0., 0., 0., 0.]])"
      ]
     },
     "execution_count": 29,
     "metadata": {},
     "output_type": "execute_result"
    }
   ],
   "source": [
    "weight_test"
   ]
  },
  {
   "cell_type": "code",
   "execution_count": 30,
   "metadata": {},
   "outputs": [
    {
     "data": {
      "text/plain": [
       "array([0.372678, 0.372678, 0.372678, 0.372678, 0.372678, 0.372678])"
      ]
     },
     "execution_count": 30,
     "metadata": {},
     "output_type": "execute_result"
    }
   ],
   "source": [
    "weight_test.std(axis=0)"
   ]
  },
  {
   "cell_type": "code",
   "execution_count": null,
   "metadata": {},
   "outputs": [],
   "source": [
    "tensor = torch"
   ]
  }
 ],
 "metadata": {
  "kernelspec": {
   "display_name": "Python 3",
   "language": "python",
   "name": "python3"
  },
  "language_info": {
   "codemirror_mode": {
    "name": "ipython",
    "version": 3
   },
   "file_extension": ".py",
   "mimetype": "text/x-python",
   "name": "python",
   "nbconvert_exporter": "python",
   "pygments_lexer": "ipython3",
   "version": "3.6.5"
  }
 },
 "nbformat": 4,
 "nbformat_minor": 2
}
