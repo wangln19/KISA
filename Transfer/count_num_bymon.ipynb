{
 "cells": [
  {
   "cell_type": "code",
   "execution_count": 1,
   "id": "97032263",
   "metadata": {},
   "outputs": [],
   "source": [
    "import pandas as pd\n",
    "import numpy as np\n",
    "import pickle"
   ]
  },
  {
   "cell_type": "code",
   "execution_count": 15,
   "id": "f23f2501",
   "metadata": {},
   "outputs": [],
   "source": [
    "with open('HK_time.pkl', \"rb\") as fp:\n",
    "    time = pickle.load(fp)"
   ]
  },
  {
   "cell_type": "code",
   "execution_count": 16,
   "id": "7f86d220",
   "metadata": {},
   "outputs": [
    {
     "data": {
      "text/plain": [
       "'2020-11-01 23:59:00'"
      ]
     },
     "execution_count": 16,
     "metadata": {},
     "output_type": "execute_result"
    }
   ],
   "source": [
    "a = list(time.values())\n",
    "a.sort()\n",
    "a[-1]"
   ]
  },
  {
   "cell_type": "code",
   "execution_count": 17,
   "id": "334f4360",
   "metadata": {},
   "outputs": [
    {
     "name": "stderr",
     "output_type": "stream",
     "text": [
      "C:\\Users\\16562\\AppData\\Local\\Temp\\ipykernel_8316\\2326577020.py:3: FutureWarning: The pandas.datetime class is deprecated and will be removed from pandas in a future version. Import from datetime module instead.\n",
      "  t1 = pd.datetime(2020, i+1, 1)\n",
      "C:\\Users\\16562\\AppData\\Local\\Temp\\ipykernel_8316\\2326577020.py:4: FutureWarning: The pandas.datetime class is deprecated and will be removed from pandas in a future version. Import from datetime module instead.\n",
      "  t2 = pd.datetime(2020, i+2, 1)\n"
     ]
    },
    {
     "data": {
      "text/plain": [
       "[11253, 8291, 10600, 11156, 11393, 11671, 12739, 12210, 12272, 13381]"
      ]
     },
     "execution_count": 17,
     "metadata": {},
     "output_type": "execute_result"
    }
   ],
   "source": [
    "count = [0 for i in range(10)]\n",
    "for i in range(10):\n",
    "    t1 = pd.datetime(2020, i+1, 1)\n",
    "    t2 = pd.datetime(2020, i+2, 1)\n",
    "    for _ in a:\n",
    "        if t1 < pd.to_datetime(_) < t2:\n",
    "            count[i] += 1\n",
    "count"
   ]
  },
  {
   "cell_type": "code",
   "execution_count": 14,
   "id": "e28d54d1",
   "metadata": {},
   "outputs": [
    {
     "data": {
      "text/plain": [
       "[32488, 31973, 44366, 36427, 47206, 52696, 60013, 87512, 7127, 2234]"
      ]
     },
     "execution_count": 14,
     "metadata": {},
     "output_type": "execute_result"
    }
   ],
   "source": [
    "LZD"
   ]
  },
  {
   "cell_type": "code",
   "execution_count": null,
   "id": "de15b5dd",
   "metadata": {},
   "outputs": [],
   "source": []
  }
 ],
 "metadata": {
  "kernelspec": {
   "display_name": "Python 3 (ipykernel)",
   "language": "python",
   "name": "python3"
  },
  "language_info": {
   "codemirror_mode": {
    "name": "ipython",
    "version": 3
   },
   "file_extension": ".py",
   "mimetype": "text/x-python",
   "name": "python",
   "nbconvert_exporter": "python",
   "pygments_lexer": "ipython3",
   "version": "3.9.12"
  }
 },
 "nbformat": 4,
 "nbformat_minor": 5
}
