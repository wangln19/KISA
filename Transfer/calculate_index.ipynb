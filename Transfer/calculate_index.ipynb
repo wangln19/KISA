{
 "cells": [
  {
   "cell_type": "code",
   "execution_count": 1,
   "id": "01bdb202",
   "metadata": {},
   "outputs": [],
   "source": [
    "import pandas as pd\n",
    "import numpy as np"
   ]
  },
  {
   "cell_type": "code",
   "execution_count": 28,
   "id": "ced6ad93",
   "metadata": {},
   "outputs": [],
   "source": [
    "val_auc = [0.8156782852592841 ,0.8157413091130443 , 0.8157495073379236]\n",
    "val_spauc = [0.5271529717101999, 0.5245335671802894, 0.525151716468889]"
   ]
  },
  {
   "cell_type": "code",
   "execution_count": 29,
   "id": "0f1e4a89",
   "metadata": {
    "scrolled": true
   },
   "outputs": [
    {
     "name": "stdout",
     "output_type": "stream",
     "text": [
      "0.8157230339034173 3.18185856234578e-05\n",
      "0.5256127517864594 0.0011179550366224808\n"
     ]
    }
   ],
   "source": [
    "print(np.mean(val_auc), np.std(val_auc))\n",
    "print(np.mean(val_spauc), np.std(val_spauc))\n"
   ]
  },
  {
   "cell_type": "code",
   "execution_count": 23,
   "id": "92c61802",
   "metadata": {},
   "outputs": [],
   "source": [
    "def md(a,b):\n",
    "    print('percent: {:.2f}\\%'.format(a/(a+b)*100))"
   ]
  },
  {
   "cell_type": "code",
   "execution_count": 28,
   "id": "3dbb6652",
   "metadata": {},
   "outputs": [
    {
     "name": "stdout",
     "output_type": "stream",
     "text": [
      "percent: 7.19\\%\n"
     ]
    }
   ],
   "source": [
    "md(220,2840)"
   ]
  },
  {
   "cell_type": "code",
   "execution_count": null,
   "id": "742735ae",
   "metadata": {},
   "outputs": [],
   "source": []
  }
 ],
 "metadata": {
  "kernelspec": {
   "display_name": "Python [conda env:pytorch]",
   "language": "python",
   "name": "conda-env-pytorch-py"
  },
  "language_info": {
   "codemirror_mode": {
    "name": "ipython",
    "version": 3
   },
   "file_extension": ".py",
   "mimetype": "text/x-python",
   "name": "python",
   "nbconvert_exporter": "python",
   "pygments_lexer": "ipython3",
   "version": "3.10.4"
  }
 },
 "nbformat": 4,
 "nbformat_minor": 5
}
