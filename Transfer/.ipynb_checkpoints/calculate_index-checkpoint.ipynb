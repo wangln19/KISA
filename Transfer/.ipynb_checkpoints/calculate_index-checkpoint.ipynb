{
 "cells": [
  {
   "cell_type": "code",
   "execution_count": 1,
   "id": "01bdb202",
   "metadata": {},
   "outputs": [],
   "source": [
    "import pandas as pd\n",
    "import numpy as np"
   ]
  },
  {
   "cell_type": "code",
   "execution_count": 12,
   "id": "ced6ad93",
   "metadata": {},
   "outputs": [],
   "source": [
    "val_auc = [0.8041223749027742, 0.8035479867721641,  0.8122719228219109]\n",
    "val_spauc = [0.6394712167611224, 0.6353844634544275, 0.6519704199188974]"
   ]
  },
  {
   "cell_type": "code",
   "execution_count": 13,
   "id": "0f1e4a89",
   "metadata": {
    "scrolled": false
   },
   "outputs": [
    {
     "name": "stdout",
     "output_type": "stream",
     "text": [
      "0.8066474281656163 0.003984025228765526\n",
      "0.6422753667114823 0.007055538281775573\n"
     ]
    }
   ],
   "source": [
    "print(np.mean(val_auc), np.std(val_auc))\n",
    "print(np.mean(val_spauc), np.std(val_spauc))\n"
   ]
  }
 ],
 "metadata": {
  "kernelspec": {
   "display_name": "Python [conda env:pytorch]",
   "language": "python",
   "name": "conda-env-pytorch-py"
  },
  "language_info": {
   "codemirror_mode": {
    "name": "ipython",
    "version": 3
   },
   "file_extension": ".py",
   "mimetype": "text/x-python",
   "name": "python",
   "nbconvert_exporter": "python",
   "pygments_lexer": "ipython3",
   "version": "3.10.4"
  }
 },
 "nbformat": 4,
 "nbformat_minor": 5
}
